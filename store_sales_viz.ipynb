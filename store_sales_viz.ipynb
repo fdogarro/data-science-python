{
 "cells": [
  {
   "cell_type": "code",
   "execution_count": 1,
   "id": "64318b83",
   "metadata": {},
   "outputs": [],
   "source": [
    "import numpy as np\n",
    "import pandas as pd\n",
    "import matplotlib.pyplot as plt\n",
    "import seaborn as sns"
   ]
  },
  {
   "cell_type": "code",
   "execution_count": 2,
   "id": "bd90710d",
   "metadata": {},
   "outputs": [],
   "source": [
    "df = pd.read_excel('data/store_sales.xlsx', engine='openpyxl')"
   ]
  },
  {
   "cell_type": "code",
   "execution_count": 3,
   "id": "1a465624",
   "metadata": {},
   "outputs": [
    {
     "data": {
      "text/html": [
       "<div>\n",
       "<style scoped>\n",
       "    .dataframe tbody tr th:only-of-type {\n",
       "        vertical-align: middle;\n",
       "    }\n",
       "\n",
       "    .dataframe tbody tr th {\n",
       "        vertical-align: top;\n",
       "    }\n",
       "\n",
       "    .dataframe thead th {\n",
       "        text-align: right;\n",
       "    }\n",
       "</style>\n",
       "<table border=\"1\" class=\"dataframe\">\n",
       "  <thead>\n",
       "    <tr style=\"text-align: right;\">\n",
       "      <th></th>\n",
       "      <th>Sales_Date</th>\n",
       "      <th>Day-of-Week</th>\n",
       "      <th>Salesclerk</th>\n",
       "      <th>Temperature</th>\n",
       "      <th>Tweets</th>\n",
       "      <th>Cost of Good Sold</th>\n",
       "      <th>Price</th>\n",
       "      <th>Sales</th>\n",
       "      <th>Profit</th>\n",
       "    </tr>\n",
       "  </thead>\n",
       "  <tbody>\n",
       "    <tr>\n",
       "      <th>0</th>\n",
       "      <td>2019-01-16</td>\n",
       "      <td>Wednesday</td>\n",
       "      <td>Ada</td>\n",
       "      <td>56</td>\n",
       "      <td>6</td>\n",
       "      <td>64.40</td>\n",
       "      <td>0.3</td>\n",
       "      <td>106</td>\n",
       "      <td>0.392453</td>\n",
       "    </tr>\n",
       "    <tr>\n",
       "      <th>1</th>\n",
       "      <td>2019-01-25</td>\n",
       "      <td>Friday</td>\n",
       "      <td>Ada</td>\n",
       "      <td>59</td>\n",
       "      <td>7</td>\n",
       "      <td>64.45</td>\n",
       "      <td>0.3</td>\n",
       "      <td>84</td>\n",
       "      <td>0.232738</td>\n",
       "    </tr>\n",
       "    <tr>\n",
       "      <th>2</th>\n",
       "      <td>2019-01-15</td>\n",
       "      <td>Tuesday</td>\n",
       "      <td>Ada</td>\n",
       "      <td>60</td>\n",
       "      <td>6</td>\n",
       "      <td>64.40</td>\n",
       "      <td>0.5</td>\n",
       "      <td>137</td>\n",
       "      <td>0.529927</td>\n",
       "    </tr>\n",
       "    <tr>\n",
       "      <th>3</th>\n",
       "      <td>2019-01-17</td>\n",
       "      <td>Thursday</td>\n",
       "      <td>Ada</td>\n",
       "      <td>60</td>\n",
       "      <td>2</td>\n",
       "      <td>64.20</td>\n",
       "      <td>0.3</td>\n",
       "      <td>85</td>\n",
       "      <td>0.244706</td>\n",
       "    </tr>\n",
       "    <tr>\n",
       "      <th>4</th>\n",
       "      <td>2019-01-23</td>\n",
       "      <td>Wednesday</td>\n",
       "      <td>Ada</td>\n",
       "      <td>60</td>\n",
       "      <td>7</td>\n",
       "      <td>64.45</td>\n",
       "      <td>0.3</td>\n",
       "      <td>87</td>\n",
       "      <td>0.259195</td>\n",
       "    </tr>\n",
       "  </tbody>\n",
       "</table>\n",
       "</div>"
      ],
      "text/plain": [
       "  Sales_Date Day-of-Week Salesclerk  Temperature  Tweets  Cost of Good Sold  \\\n",
       "0 2019-01-16   Wednesday        Ada           56       6              64.40   \n",
       "1 2019-01-25      Friday        Ada           59       7              64.45   \n",
       "2 2019-01-15     Tuesday        Ada           60       6              64.40   \n",
       "3 2019-01-17    Thursday        Ada           60       2              64.20   \n",
       "4 2019-01-23   Wednesday        Ada           60       7              64.45   \n",
       "\n",
       "   Price  Sales    Profit  \n",
       "0    0.3    106  0.392453  \n",
       "1    0.3     84  0.232738  \n",
       "2    0.5    137  0.529927  \n",
       "3    0.3     85  0.244706  \n",
       "4    0.3     87  0.259195  "
      ]
     },
     "execution_count": 3,
     "metadata": {},
     "output_type": "execute_result"
    }
   ],
   "source": [
    "df.head()"
   ]
  },
  {
   "cell_type": "code",
   "execution_count": 4,
   "id": "4c9483cf",
   "metadata": {},
   "outputs": [
    {
     "data": {
      "text/plain": [
       "50"
      ]
     },
     "execution_count": 4,
     "metadata": {},
     "output_type": "execute_result"
    }
   ],
   "source": [
    "len(df)"
   ]
  },
  {
   "cell_type": "code",
   "execution_count": 5,
   "id": "497f4b6d",
   "metadata": {},
   "outputs": [
    {
     "data": {
      "text/plain": [
       "Sales_Date           datetime64[ns]\n",
       "Day-of-Week                  object\n",
       "Salesclerk                   object\n",
       "Temperature                   int64\n",
       "Tweets                        int64\n",
       "Cost of Good Sold           float64\n",
       "Price                       float64\n",
       "Sales                         int64\n",
       "Profit                      float64\n",
       "dtype: object"
      ]
     },
     "execution_count": 5,
     "metadata": {},
     "output_type": "execute_result"
    }
   ],
   "source": [
    "df.dtypes"
   ]
  },
  {
   "cell_type": "code",
   "execution_count": 6,
   "id": "b398ad8d",
   "metadata": {},
   "outputs": [
    {
     "data": {
      "text/html": [
       "<div>\n",
       "<style scoped>\n",
       "    .dataframe tbody tr th:only-of-type {\n",
       "        vertical-align: middle;\n",
       "    }\n",
       "\n",
       "    .dataframe tbody tr th {\n",
       "        vertical-align: top;\n",
       "    }\n",
       "\n",
       "    .dataframe thead th {\n",
       "        text-align: right;\n",
       "    }\n",
       "</style>\n",
       "<table border=\"1\" class=\"dataframe\">\n",
       "  <thead>\n",
       "    <tr style=\"text-align: right;\">\n",
       "      <th></th>\n",
       "      <th>Sales_Date</th>\n",
       "      <th>Day-of-Week</th>\n",
       "      <th>Salesclerk</th>\n",
       "      <th>Temperature</th>\n",
       "      <th>Tweets</th>\n",
       "      <th>Cost of Good Sold</th>\n",
       "      <th>Price</th>\n",
       "      <th>Sales</th>\n",
       "      <th>Profit</th>\n",
       "    </tr>\n",
       "  </thead>\n",
       "  <tbody>\n",
       "    <tr>\n",
       "      <th>45</th>\n",
       "      <td>2019-01-12</td>\n",
       "      <td>Saturday</td>\n",
       "      <td>John</td>\n",
       "      <td>94</td>\n",
       "      <td>9</td>\n",
       "      <td>85.55</td>\n",
       "      <td>0.5</td>\n",
       "      <td>160</td>\n",
       "      <td>0.465313</td>\n",
       "    </tr>\n",
       "    <tr>\n",
       "      <th>46</th>\n",
       "      <td>2019-01-28</td>\n",
       "      <td>Monday</td>\n",
       "      <td>John</td>\n",
       "      <td>96</td>\n",
       "      <td>10</td>\n",
       "      <td>85.60</td>\n",
       "      <td>0.5</td>\n",
       "      <td>166</td>\n",
       "      <td>0.484337</td>\n",
       "    </tr>\n",
       "    <tr>\n",
       "      <th>47</th>\n",
       "      <td>2019-02-17</td>\n",
       "      <td>Sunday</td>\n",
       "      <td>John</td>\n",
       "      <td>96</td>\n",
       "      <td>2</td>\n",
       "      <td>85.20</td>\n",
       "      <td>0.5</td>\n",
       "      <td>141</td>\n",
       "      <td>0.395745</td>\n",
       "    </tr>\n",
       "    <tr>\n",
       "      <th>48</th>\n",
       "      <td>2019-01-04</td>\n",
       "      <td>Friday</td>\n",
       "      <td>John</td>\n",
       "      <td>100</td>\n",
       "      <td>7</td>\n",
       "      <td>85.45</td>\n",
       "      <td>0.5</td>\n",
       "      <td>150</td>\n",
       "      <td>0.430333</td>\n",
       "    </tr>\n",
       "    <tr>\n",
       "      <th>49</th>\n",
       "      <td>2019-01-20</td>\n",
       "      <td>Sunday</td>\n",
       "      <td>John</td>\n",
       "      <td>100</td>\n",
       "      <td>7</td>\n",
       "      <td>85.45</td>\n",
       "      <td>0.5</td>\n",
       "      <td>165</td>\n",
       "      <td>0.482121</td>\n",
       "    </tr>\n",
       "  </tbody>\n",
       "</table>\n",
       "</div>"
      ],
      "text/plain": [
       "   Sales_Date Day-of-Week Salesclerk  Temperature  Tweets  Cost of Good Sold  \\\n",
       "45 2019-01-12    Saturday       John           94       9              85.55   \n",
       "46 2019-01-28      Monday       John           96      10              85.60   \n",
       "47 2019-02-17      Sunday       John           96       2              85.20   \n",
       "48 2019-01-04      Friday       John          100       7              85.45   \n",
       "49 2019-01-20      Sunday       John          100       7              85.45   \n",
       "\n",
       "    Price  Sales    Profit  \n",
       "45    0.5    160  0.465313  \n",
       "46    0.5    166  0.484337  \n",
       "47    0.5    141  0.395745  \n",
       "48    0.5    150  0.430333  \n",
       "49    0.5    165  0.482121  "
      ]
     },
     "execution_count": 6,
     "metadata": {},
     "output_type": "execute_result"
    }
   ],
   "source": [
    "df.tail()"
   ]
  },
  {
   "cell_type": "code",
   "execution_count": 7,
   "id": "11e9422c",
   "metadata": {},
   "outputs": [],
   "source": [
    "df_ada = df[df['Salesclerk'] == 'Ada']"
   ]
  },
  {
   "cell_type": "code",
   "execution_count": 75,
   "id": "17c40cc2",
   "metadata": {},
   "outputs": [
    {
     "data": {
      "text/plain": [
       "15"
      ]
     },
     "execution_count": 75,
     "metadata": {},
     "output_type": "execute_result"
    }
   ],
   "source": [
    "df_ada\n",
    "len(df_ada)"
   ]
  },
  {
   "cell_type": "code",
   "execution_count": 9,
   "id": "7c86ac57",
   "metadata": {},
   "outputs": [],
   "source": [
    "df_john = df[df['Salesclerk'] == 'John']"
   ]
  },
  {
   "cell_type": "code",
   "execution_count": 76,
   "id": "4a0261f0",
   "metadata": {},
   "outputs": [
    {
     "data": {
      "text/plain": [
       "35"
      ]
     },
     "execution_count": 76,
     "metadata": {},
     "output_type": "execute_result"
    }
   ],
   "source": [
    "df_john\n",
    "len(df_john)"
   ]
  },
  {
   "cell_type": "code",
   "execution_count": 11,
   "id": "b29a4fb2",
   "metadata": {},
   "outputs": [],
   "source": [
    "cats = [ 'Monday', 'Tuesday', 'Wednesday', 'Thursday', 'Friday', 'Saturday', 'Sunday']"
   ]
  },
  {
   "cell_type": "code",
   "execution_count": 12,
   "id": "06813032",
   "metadata": {},
   "outputs": [],
   "source": [
    "df_weekday = df.groupby(['Day-of-Week']).sum().reindex(cats)"
   ]
  },
  {
   "cell_type": "code",
   "execution_count": 13,
   "id": "bc1a9bfd",
   "metadata": {},
   "outputs": [
    {
     "data": {
      "text/html": [
       "<div>\n",
       "<style scoped>\n",
       "    .dataframe tbody tr th:only-of-type {\n",
       "        vertical-align: middle;\n",
       "    }\n",
       "\n",
       "    .dataframe tbody tr th {\n",
       "        vertical-align: top;\n",
       "    }\n",
       "\n",
       "    .dataframe thead th {\n",
       "        text-align: right;\n",
       "    }\n",
       "</style>\n",
       "<table border=\"1\" class=\"dataframe\">\n",
       "  <thead>\n",
       "    <tr style=\"text-align: right;\">\n",
       "      <th></th>\n",
       "      <th>Temperature</th>\n",
       "      <th>Tweets</th>\n",
       "      <th>Cost of Good Sold</th>\n",
       "      <th>Price</th>\n",
       "      <th>Sales</th>\n",
       "      <th>Profit</th>\n",
       "    </tr>\n",
       "    <tr>\n",
       "      <th>Day-of-Week</th>\n",
       "      <th></th>\n",
       "      <th></th>\n",
       "      <th></th>\n",
       "      <th></th>\n",
       "      <th></th>\n",
       "      <th></th>\n",
       "    </tr>\n",
       "  </thead>\n",
       "  <tbody>\n",
       "    <tr>\n",
       "      <th>Monday</th>\n",
       "      <td>545</td>\n",
       "      <td>40</td>\n",
       "      <td>555.70</td>\n",
       "      <td>3.1</td>\n",
       "      <td>994</td>\n",
       "      <td>2.942497</td>\n",
       "    </tr>\n",
       "    <tr>\n",
       "      <th>Tuesday</th>\n",
       "      <td>607</td>\n",
       "      <td>30</td>\n",
       "      <td>661.30</td>\n",
       "      <td>4.0</td>\n",
       "      <td>1414</td>\n",
       "      <td>4.231138</td>\n",
       "    </tr>\n",
       "    <tr>\n",
       "      <th>Wednesday</th>\n",
       "      <td>493</td>\n",
       "      <td>31</td>\n",
       "      <td>513.25</td>\n",
       "      <td>2.7</td>\n",
       "      <td>858</td>\n",
       "      <td>2.722140</td>\n",
       "    </tr>\n",
       "    <tr>\n",
       "      <th>Thursday</th>\n",
       "      <td>513</td>\n",
       "      <td>30</td>\n",
       "      <td>555.20</td>\n",
       "      <td>3.1</td>\n",
       "      <td>905</td>\n",
       "      <td>2.547107</td>\n",
       "    </tr>\n",
       "    <tr>\n",
       "      <th>Friday</th>\n",
       "      <td>584</td>\n",
       "      <td>35</td>\n",
       "      <td>555.45</td>\n",
       "      <td>3.1</td>\n",
       "      <td>880</td>\n",
       "      <td>2.438629</td>\n",
       "    </tr>\n",
       "    <tr>\n",
       "      <th>Saturday</th>\n",
       "      <td>546</td>\n",
       "      <td>39</td>\n",
       "      <td>576.65</td>\n",
       "      <td>3.3</td>\n",
       "      <td>1056</td>\n",
       "      <td>3.070231</td>\n",
       "    </tr>\n",
       "    <tr>\n",
       "      <th>Sunday</th>\n",
       "      <td>549</td>\n",
       "      <td>42</td>\n",
       "      <td>534.80</td>\n",
       "      <td>3.1</td>\n",
       "      <td>937</td>\n",
       "      <td>2.946908</td>\n",
       "    </tr>\n",
       "  </tbody>\n",
       "</table>\n",
       "</div>"
      ],
      "text/plain": [
       "             Temperature  Tweets  Cost of Good Sold  Price  Sales    Profit\n",
       "Day-of-Week                                                                \n",
       "Monday               545      40             555.70    3.1    994  2.942497\n",
       "Tuesday              607      30             661.30    4.0   1414  4.231138\n",
       "Wednesday            493      31             513.25    2.7    858  2.722140\n",
       "Thursday             513      30             555.20    3.1    905  2.547107\n",
       "Friday               584      35             555.45    3.1    880  2.438629\n",
       "Saturday             546      39             576.65    3.3   1056  3.070231\n",
       "Sunday               549      42             534.80    3.1    937  2.946908"
      ]
     },
     "execution_count": 13,
     "metadata": {},
     "output_type": "execute_result"
    }
   ],
   "source": [
    "df_weekday"
   ]
  },
  {
   "cell_type": "code",
   "execution_count": 14,
   "id": "8e5b76df",
   "metadata": {},
   "outputs": [],
   "source": [
    "# cats = [ 'Monday', 'Tuesday', 'Wednesday', 'Thursday', 'Friday', 'Saturday', 'Sunday']\n",
    "\n",
    "# df['Day-of-Week'] = df['Day-of-Week'].astype('category', categories=cats, ordered=True)"
   ]
  },
  {
   "cell_type": "code",
   "execution_count": 15,
   "id": "d2d506f4",
   "metadata": {},
   "outputs": [
    {
     "data": {
      "text/html": [
       "<div>\n",
       "<style scoped>\n",
       "    .dataframe tbody tr th:only-of-type {\n",
       "        vertical-align: middle;\n",
       "    }\n",
       "\n",
       "    .dataframe tbody tr th {\n",
       "        vertical-align: top;\n",
       "    }\n",
       "\n",
       "    .dataframe thead th {\n",
       "        text-align: right;\n",
       "    }\n",
       "</style>\n",
       "<table border=\"1\" class=\"dataframe\">\n",
       "  <thead>\n",
       "    <tr style=\"text-align: right;\">\n",
       "      <th></th>\n",
       "      <th>Sales_Date</th>\n",
       "      <th>Day-of-Week</th>\n",
       "      <th>Salesclerk</th>\n",
       "      <th>Temperature</th>\n",
       "      <th>Tweets</th>\n",
       "      <th>Cost of Good Sold</th>\n",
       "      <th>Price</th>\n",
       "      <th>Sales</th>\n",
       "      <th>Profit</th>\n",
       "    </tr>\n",
       "  </thead>\n",
       "  <tbody>\n",
       "    <tr>\n",
       "      <th>0</th>\n",
       "      <td>2019-01-16</td>\n",
       "      <td>Wednesday</td>\n",
       "      <td>Ada</td>\n",
       "      <td>56</td>\n",
       "      <td>6</td>\n",
       "      <td>64.40</td>\n",
       "      <td>0.3</td>\n",
       "      <td>106</td>\n",
       "      <td>0.392453</td>\n",
       "    </tr>\n",
       "    <tr>\n",
       "      <th>1</th>\n",
       "      <td>2019-01-25</td>\n",
       "      <td>Friday</td>\n",
       "      <td>Ada</td>\n",
       "      <td>59</td>\n",
       "      <td>7</td>\n",
       "      <td>64.45</td>\n",
       "      <td>0.3</td>\n",
       "      <td>84</td>\n",
       "      <td>0.232738</td>\n",
       "    </tr>\n",
       "    <tr>\n",
       "      <th>2</th>\n",
       "      <td>2019-01-15</td>\n",
       "      <td>Tuesday</td>\n",
       "      <td>Ada</td>\n",
       "      <td>60</td>\n",
       "      <td>6</td>\n",
       "      <td>64.40</td>\n",
       "      <td>0.5</td>\n",
       "      <td>137</td>\n",
       "      <td>0.529927</td>\n",
       "    </tr>\n",
       "    <tr>\n",
       "      <th>3</th>\n",
       "      <td>2019-01-17</td>\n",
       "      <td>Thursday</td>\n",
       "      <td>Ada</td>\n",
       "      <td>60</td>\n",
       "      <td>2</td>\n",
       "      <td>64.20</td>\n",
       "      <td>0.3</td>\n",
       "      <td>85</td>\n",
       "      <td>0.244706</td>\n",
       "    </tr>\n",
       "    <tr>\n",
       "      <th>4</th>\n",
       "      <td>2019-01-23</td>\n",
       "      <td>Wednesday</td>\n",
       "      <td>Ada</td>\n",
       "      <td>60</td>\n",
       "      <td>7</td>\n",
       "      <td>64.45</td>\n",
       "      <td>0.3</td>\n",
       "      <td>87</td>\n",
       "      <td>0.259195</td>\n",
       "    </tr>\n",
       "  </tbody>\n",
       "</table>\n",
       "</div>"
      ],
      "text/plain": [
       "  Sales_Date Day-of-Week Salesclerk  Temperature  Tweets  Cost of Good Sold  \\\n",
       "0 2019-01-16   Wednesday        Ada           56       6              64.40   \n",
       "1 2019-01-25      Friday        Ada           59       7              64.45   \n",
       "2 2019-01-15     Tuesday        Ada           60       6              64.40   \n",
       "3 2019-01-17    Thursday        Ada           60       2              64.20   \n",
       "4 2019-01-23   Wednesday        Ada           60       7              64.45   \n",
       "\n",
       "   Price  Sales    Profit  \n",
       "0    0.3    106  0.392453  \n",
       "1    0.3     84  0.232738  \n",
       "2    0.5    137  0.529927  \n",
       "3    0.3     85  0.244706  \n",
       "4    0.3     87  0.259195  "
      ]
     },
     "execution_count": 15,
     "metadata": {},
     "output_type": "execute_result"
    }
   ],
   "source": [
    "df.head()"
   ]
  },
  {
   "cell_type": "code",
   "execution_count": 16,
   "id": "cbedf371",
   "metadata": {},
   "outputs": [
    {
     "data": {
      "text/html": [
       "<div>\n",
       "<style scoped>\n",
       "    .dataframe tbody tr th:only-of-type {\n",
       "        vertical-align: middle;\n",
       "    }\n",
       "\n",
       "    .dataframe tbody tr th {\n",
       "        vertical-align: top;\n",
       "    }\n",
       "\n",
       "    .dataframe thead th {\n",
       "        text-align: right;\n",
       "    }\n",
       "</style>\n",
       "<table border=\"1\" class=\"dataframe\">\n",
       "  <thead>\n",
       "    <tr style=\"text-align: right;\">\n",
       "      <th></th>\n",
       "      <th>Temperature</th>\n",
       "      <th>Tweets</th>\n",
       "      <th>Cost of Good Sold</th>\n",
       "      <th>Price</th>\n",
       "      <th>Sales</th>\n",
       "      <th>Profit</th>\n",
       "    </tr>\n",
       "  </thead>\n",
       "  <tbody>\n",
       "    <tr>\n",
       "      <th>count</th>\n",
       "      <td>15.000000</td>\n",
       "      <td>15.000000</td>\n",
       "      <td>15.000000</td>\n",
       "      <td>15.000000</td>\n",
       "      <td>15.000000</td>\n",
       "      <td>15.000000</td>\n",
       "    </tr>\n",
       "    <tr>\n",
       "      <th>mean</th>\n",
       "      <td>67.600000</td>\n",
       "      <td>5.066667</td>\n",
       "      <td>64.353333</td>\n",
       "      <td>0.326667</td>\n",
       "      <td>103.800000</td>\n",
       "      <td>0.366091</td>\n",
       "    </tr>\n",
       "    <tr>\n",
       "      <th>std</th>\n",
       "      <td>7.613897</td>\n",
       "      <td>2.086236</td>\n",
       "      <td>0.104312</td>\n",
       "      <td>0.070373</td>\n",
       "      <td>16.240162</td>\n",
       "      <td>0.096282</td>\n",
       "    </tr>\n",
       "    <tr>\n",
       "      <th>min</th>\n",
       "      <td>56.000000</td>\n",
       "      <td>2.000000</td>\n",
       "      <td>64.200000</td>\n",
       "      <td>0.300000</td>\n",
       "      <td>84.000000</td>\n",
       "      <td>0.232738</td>\n",
       "    </tr>\n",
       "    <tr>\n",
       "      <th>25%</th>\n",
       "      <td>60.000000</td>\n",
       "      <td>3.000000</td>\n",
       "      <td>64.250000</td>\n",
       "      <td>0.300000</td>\n",
       "      <td>88.500000</td>\n",
       "      <td>0.272126</td>\n",
       "    </tr>\n",
       "    <tr>\n",
       "      <th>50%</th>\n",
       "      <td>68.000000</td>\n",
       "      <td>6.000000</td>\n",
       "      <td>64.400000</td>\n",
       "      <td>0.300000</td>\n",
       "      <td>105.000000</td>\n",
       "      <td>0.388571</td>\n",
       "    </tr>\n",
       "    <tr>\n",
       "      <th>75%</th>\n",
       "      <td>71.500000</td>\n",
       "      <td>6.500000</td>\n",
       "      <td>64.425000</td>\n",
       "      <td>0.300000</td>\n",
       "      <td>116.000000</td>\n",
       "      <td>0.445474</td>\n",
       "    </tr>\n",
       "    <tr>\n",
       "      <th>max</th>\n",
       "      <td>81.000000</td>\n",
       "      <td>8.000000</td>\n",
       "      <td>64.500000</td>\n",
       "      <td>0.500000</td>\n",
       "      <td>137.000000</td>\n",
       "      <td>0.529927</td>\n",
       "    </tr>\n",
       "  </tbody>\n",
       "</table>\n",
       "</div>"
      ],
      "text/plain": [
       "       Temperature     Tweets  Cost of Good Sold      Price       Sales  \\\n",
       "count    15.000000  15.000000          15.000000  15.000000   15.000000   \n",
       "mean     67.600000   5.066667          64.353333   0.326667  103.800000   \n",
       "std       7.613897   2.086236           0.104312   0.070373   16.240162   \n",
       "min      56.000000   2.000000          64.200000   0.300000   84.000000   \n",
       "25%      60.000000   3.000000          64.250000   0.300000   88.500000   \n",
       "50%      68.000000   6.000000          64.400000   0.300000  105.000000   \n",
       "75%      71.500000   6.500000          64.425000   0.300000  116.000000   \n",
       "max      81.000000   8.000000          64.500000   0.500000  137.000000   \n",
       "\n",
       "          Profit  \n",
       "count  15.000000  \n",
       "mean    0.366091  \n",
       "std     0.096282  \n",
       "min     0.232738  \n",
       "25%     0.272126  \n",
       "50%     0.388571  \n",
       "75%     0.445474  \n",
       "max     0.529927  "
      ]
     },
     "execution_count": 16,
     "metadata": {},
     "output_type": "execute_result"
    }
   ],
   "source": [
    "df_ada.describe()"
   ]
  },
  {
   "cell_type": "code",
   "execution_count": 97,
   "id": "d649e782",
   "metadata": {},
   "outputs": [
    {
     "data": {
      "text/plain": [
       "Temperature          3837.000000\n",
       "Tweets                247.000000\n",
       "Cost of Good Sold    3952.350000\n",
       "Price                  22.400000\n",
       "Sales                7044.000000\n",
       "Profit                 20.898649\n",
       "dtype: float64"
      ]
     },
     "execution_count": 97,
     "metadata": {},
     "output_type": "execute_result"
    }
   ],
   "source": [
    "df.sum(numeric_only=True)"
   ]
  },
  {
   "cell_type": "code",
   "execution_count": 99,
   "id": "9f7be5d7",
   "metadata": {},
   "outputs": [],
   "source": [
    "ada_sales_total = df_ada.sum(numeric_only=True)"
   ]
  },
  {
   "cell_type": "code",
   "execution_count": 100,
   "id": "2c0d41a2",
   "metadata": {},
   "outputs": [
    {
     "data": {
      "text/plain": [
       "Temperature          1014.00000\n",
       "Tweets                 76.00000\n",
       "Cost of Good Sold     965.30000\n",
       "Price                   4.90000\n",
       "Sales                1557.00000\n",
       "Profit                  5.49137\n",
       "dtype: float64"
      ]
     },
     "execution_count": 100,
     "metadata": {},
     "output_type": "execute_result"
    }
   ],
   "source": [
    "ada_sales_total"
   ]
  },
  {
   "cell_type": "code",
   "execution_count": 104,
   "id": "ea2586f9",
   "metadata": {},
   "outputs": [
    {
     "data": {
      "text/plain": [
       "<seaborn.axisgrid.FacetGrid at 0x130c0e0a0>"
      ]
     },
     "execution_count": 104,
     "metadata": {},
     "output_type": "execute_result"
    },
    {
     "data": {
      "image/png": "[encoded data removed]",
      "text/plain": [
       "<Figure size 360x360 with 1 Axes>"
      ]
     },
     "metadata": {
      "needs_background": "light"
     },
     "output_type": "display_data"
    }
   ],
   "source": [
    "# df['Sales'].sum().plot.bar()\n",
    "# plt.show()\n",
    "\n",
    "sns.catplot(x=\"Salesclerk\", kind=\"count\", data=df)"
   ]
  },
  {
   "cell_type": "code",
   "execution_count": 105,
   "id": "7aa95152",
   "metadata": {},
   "outputs": [
    {
     "data": {
      "text/plain": [
       "1557"
      ]
     },
     "execution_count": 105,
     "metadata": {},
     "output_type": "execute_result"
    }
   ],
   "source": [
    "df_ada.Sales.sum()"
   ]
  },
  {
   "cell_type": "code",
   "execution_count": 101,
   "id": "cfc4593d",
   "metadata": {},
   "outputs": [
    {
     "data": {
      "text/plain": [
       "5487"
      ]
     },
     "execution_count": 101,
     "metadata": {},
     "output_type": "execute_result"
    }
   ],
   "source": [
    "df_john.Sales.sum()"
   ]
  },
  {
   "cell_type": "code",
   "execution_count": 90,
   "id": "a07a117c",
   "metadata": {},
   "outputs": [
    {
     "data": {
      "text/plain": [
       "171"
      ]
     },
     "execution_count": 90,
     "metadata": {},
     "output_type": "execute_result"
    }
   ],
   "source": [
    "df_john.Tweets.sum()"
   ]
  },
  {
   "cell_type": "code",
   "execution_count": 17,
   "id": "c76560bc",
   "metadata": {},
   "outputs": [
    {
     "data": {
      "text/html": [
       "<div>\n",
       "<style scoped>\n",
       "    .dataframe tbody tr th:only-of-type {\n",
       "        vertical-align: middle;\n",
       "    }\n",
       "\n",
       "    .dataframe tbody tr th {\n",
       "        vertical-align: top;\n",
       "    }\n",
       "\n",
       "    .dataframe thead th {\n",
       "        text-align: right;\n",
       "    }\n",
       "</style>\n",
       "<table border=\"1\" class=\"dataframe\">\n",
       "  <thead>\n",
       "    <tr style=\"text-align: right;\">\n",
       "      <th></th>\n",
       "      <th>Temperature</th>\n",
       "      <th>Tweets</th>\n",
       "      <th>Cost of Good Sold</th>\n",
       "      <th>Price</th>\n",
       "      <th>Sales</th>\n",
       "      <th>Profit</th>\n",
       "    </tr>\n",
       "  </thead>\n",
       "  <tbody>\n",
       "    <tr>\n",
       "      <th>count</th>\n",
       "      <td>35.000000</td>\n",
       "      <td>35.000000</td>\n",
       "      <td>35.000000</td>\n",
       "      <td>35.0</td>\n",
       "      <td>35.000000</td>\n",
       "      <td>35.000000</td>\n",
       "    </tr>\n",
       "    <tr>\n",
       "      <th>mean</th>\n",
       "      <td>80.657143</td>\n",
       "      <td>4.885714</td>\n",
       "      <td>85.344286</td>\n",
       "      <td>0.5</td>\n",
       "      <td>156.771429</td>\n",
       "      <td>0.440208</td>\n",
       "    </tr>\n",
       "    <tr>\n",
       "      <th>std</th>\n",
       "      <td>10.954298</td>\n",
       "      <td>3.075247</td>\n",
       "      <td>0.153762</td>\n",
       "      <td>0.0</td>\n",
       "      <td>25.910577</td>\n",
       "      <td>0.098063</td>\n",
       "    </tr>\n",
       "    <tr>\n",
       "      <th>min</th>\n",
       "      <td>61.000000</td>\n",
       "      <td>0.000000</td>\n",
       "      <td>85.100000</td>\n",
       "      <td>0.5</td>\n",
       "      <td>100.000000</td>\n",
       "      <td>0.144000</td>\n",
       "    </tr>\n",
       "    <tr>\n",
       "      <th>25%</th>\n",
       "      <td>70.500000</td>\n",
       "      <td>2.000000</td>\n",
       "      <td>85.200000</td>\n",
       "      <td>0.5</td>\n",
       "      <td>140.500000</td>\n",
       "      <td>0.392163</td>\n",
       "    </tr>\n",
       "    <tr>\n",
       "      <th>50%</th>\n",
       "      <td>80.000000</td>\n",
       "      <td>5.000000</td>\n",
       "      <td>85.350000</td>\n",
       "      <td>0.5</td>\n",
       "      <td>156.000000</td>\n",
       "      <td>0.454167</td>\n",
       "    </tr>\n",
       "    <tr>\n",
       "      <th>75%</th>\n",
       "      <td>89.000000</td>\n",
       "      <td>7.500000</td>\n",
       "      <td>85.475000</td>\n",
       "      <td>0.5</td>\n",
       "      <td>175.500000</td>\n",
       "      <td>0.513934</td>\n",
       "    </tr>\n",
       "    <tr>\n",
       "      <th>max</th>\n",
       "      <td>100.000000</td>\n",
       "      <td>10.000000</td>\n",
       "      <td>85.600000</td>\n",
       "      <td>0.5</td>\n",
       "      <td>200.000000</td>\n",
       "      <td>0.573000</td>\n",
       "    </tr>\n",
       "  </tbody>\n",
       "</table>\n",
       "</div>"
      ],
      "text/plain": [
       "       Temperature     Tweets  Cost of Good Sold  Price       Sales     Profit\n",
       "count    35.000000  35.000000          35.000000   35.0   35.000000  35.000000\n",
       "mean     80.657143   4.885714          85.344286    0.5  156.771429   0.440208\n",
       "std      10.954298   3.075247           0.153762    0.0   25.910577   0.098063\n",
       "min      61.000000   0.000000          85.100000    0.5  100.000000   0.144000\n",
       "25%      70.500000   2.000000          85.200000    0.5  140.500000   0.392163\n",
       "50%      80.000000   5.000000          85.350000    0.5  156.000000   0.454167\n",
       "75%      89.000000   7.500000          85.475000    0.5  175.500000   0.513934\n",
       "max     100.000000  10.000000          85.600000    0.5  200.000000   0.573000"
      ]
     },
     "execution_count": 17,
     "metadata": {},
     "output_type": "execute_result"
    }
   ],
   "source": [
    "df_john.describe()"
   ]
  },
  {
   "cell_type": "code",
   "execution_count": null,
   "id": "ddf10823",
   "metadata": {},
   "outputs": [],
   "source": [
    "#Ada's min profit significantly higher than John\n",
    "#"
   ]
  },
  {
   "cell_type": "code",
   "execution_count": 25,
   "id": "35dfe5e7",
   "metadata": {},
   "outputs": [
    {
     "data": {
      "image/png": "[encoded data removed]",
      "text/plain": [
       "<Figure size 432x288 with 1 Axes>"
      ]
     },
     "metadata": {
      "needs_background": "light"
     },
     "output_type": "display_data"
    }
   ],
   "source": [
    "# Ada data \n",
    "plt.plot(df_ada['Sales'])\n",
    "plt.plot(df_john['Sales'])\n",
    "plt.show()"
   ]
  },
  {
   "cell_type": "code",
   "execution_count": 26,
   "id": "0ca91d23",
   "metadata": {},
   "outputs": [
    {
     "data": {
      "text/html": [
       "<div>\n",
       "<style scoped>\n",
       "    .dataframe tbody tr th:only-of-type {\n",
       "        vertical-align: middle;\n",
       "    }\n",
       "\n",
       "    .dataframe tbody tr th {\n",
       "        vertical-align: top;\n",
       "    }\n",
       "\n",
       "    .dataframe thead th {\n",
       "        text-align: right;\n",
       "    }\n",
       "</style>\n",
       "<table border=\"1\" class=\"dataframe\">\n",
       "  <thead>\n",
       "    <tr style=\"text-align: right;\">\n",
       "      <th></th>\n",
       "      <th>Day-of-Week</th>\n",
       "      <th>Salesclerk</th>\n",
       "      <th>Temperature</th>\n",
       "      <th>Tweets</th>\n",
       "      <th>Cost of Good Sold</th>\n",
       "      <th>Price</th>\n",
       "      <th>Sales</th>\n",
       "      <th>Profit</th>\n",
       "    </tr>\n",
       "    <tr>\n",
       "      <th>Sales_Date</th>\n",
       "      <th></th>\n",
       "      <th></th>\n",
       "      <th></th>\n",
       "      <th></th>\n",
       "      <th></th>\n",
       "      <th></th>\n",
       "      <th></th>\n",
       "      <th></th>\n",
       "    </tr>\n",
       "  </thead>\n",
       "  <tbody>\n",
       "    <tr>\n",
       "      <th>2019-01-16</th>\n",
       "      <td>Wednesday</td>\n",
       "      <td>Ada</td>\n",
       "      <td>56</td>\n",
       "      <td>6</td>\n",
       "      <td>64.40</td>\n",
       "      <td>0.3</td>\n",
       "      <td>106</td>\n",
       "      <td>0.392453</td>\n",
       "    </tr>\n",
       "    <tr>\n",
       "      <th>2019-01-25</th>\n",
       "      <td>Friday</td>\n",
       "      <td>Ada</td>\n",
       "      <td>59</td>\n",
       "      <td>7</td>\n",
       "      <td>64.45</td>\n",
       "      <td>0.3</td>\n",
       "      <td>84</td>\n",
       "      <td>0.232738</td>\n",
       "    </tr>\n",
       "    <tr>\n",
       "      <th>2019-01-15</th>\n",
       "      <td>Tuesday</td>\n",
       "      <td>Ada</td>\n",
       "      <td>60</td>\n",
       "      <td>6</td>\n",
       "      <td>64.40</td>\n",
       "      <td>0.5</td>\n",
       "      <td>137</td>\n",
       "      <td>0.529927</td>\n",
       "    </tr>\n",
       "    <tr>\n",
       "      <th>2019-01-17</th>\n",
       "      <td>Thursday</td>\n",
       "      <td>Ada</td>\n",
       "      <td>60</td>\n",
       "      <td>2</td>\n",
       "      <td>64.20</td>\n",
       "      <td>0.3</td>\n",
       "      <td>85</td>\n",
       "      <td>0.244706</td>\n",
       "    </tr>\n",
       "    <tr>\n",
       "      <th>2019-01-23</th>\n",
       "      <td>Wednesday</td>\n",
       "      <td>Ada</td>\n",
       "      <td>60</td>\n",
       "      <td>7</td>\n",
       "      <td>64.45</td>\n",
       "      <td>0.3</td>\n",
       "      <td>87</td>\n",
       "      <td>0.259195</td>\n",
       "    </tr>\n",
       "    <tr>\n",
       "      <th>2019-01-06</th>\n",
       "      <td>Sunday</td>\n",
       "      <td>Ada</td>\n",
       "      <td>66</td>\n",
       "      <td>8</td>\n",
       "      <td>64.50</td>\n",
       "      <td>0.5</td>\n",
       "      <td>120</td>\n",
       "      <td>0.462500</td>\n",
       "    </tr>\n",
       "    <tr>\n",
       "      <th>2019-02-04</th>\n",
       "      <td>Monday</td>\n",
       "      <td>Ada</td>\n",
       "      <td>67</td>\n",
       "      <td>3</td>\n",
       "      <td>64.25</td>\n",
       "      <td>0.3</td>\n",
       "      <td>94</td>\n",
       "      <td>0.316489</td>\n",
       "    </tr>\n",
       "    <tr>\n",
       "      <th>2019-02-06</th>\n",
       "      <td>Wednesday</td>\n",
       "      <td>Ada</td>\n",
       "      <td>68</td>\n",
       "      <td>5</td>\n",
       "      <td>64.35</td>\n",
       "      <td>0.3</td>\n",
       "      <td>114</td>\n",
       "      <td>0.435526</td>\n",
       "    </tr>\n",
       "    <tr>\n",
       "      <th>2019-01-05</th>\n",
       "      <td>Saturday</td>\n",
       "      <td>Ada</td>\n",
       "      <td>69</td>\n",
       "      <td>6</td>\n",
       "      <td>64.40</td>\n",
       "      <td>0.3</td>\n",
       "      <td>116</td>\n",
       "      <td>0.444828</td>\n",
       "    </tr>\n",
       "    <tr>\n",
       "      <th>2019-01-27</th>\n",
       "      <td>Sunday</td>\n",
       "      <td>Ada</td>\n",
       "      <td>70</td>\n",
       "      <td>6</td>\n",
       "      <td>64.40</td>\n",
       "      <td>0.3</td>\n",
       "      <td>120</td>\n",
       "      <td>0.463333</td>\n",
       "    </tr>\n",
       "    <tr>\n",
       "      <th>2019-02-07</th>\n",
       "      <td>Thursday</td>\n",
       "      <td>Ada</td>\n",
       "      <td>71</td>\n",
       "      <td>3</td>\n",
       "      <td>64.25</td>\n",
       "      <td>0.3</td>\n",
       "      <td>116</td>\n",
       "      <td>0.446121</td>\n",
       "    </tr>\n",
       "    <tr>\n",
       "      <th>2019-02-10</th>\n",
       "      <td>Sunday</td>\n",
       "      <td>Ada</td>\n",
       "      <td>72</td>\n",
       "      <td>8</td>\n",
       "      <td>64.50</td>\n",
       "      <td>0.3</td>\n",
       "      <td>90</td>\n",
       "      <td>0.283333</td>\n",
       "    </tr>\n",
       "    <tr>\n",
       "      <th>2019-02-15</th>\n",
       "      <td>Friday</td>\n",
       "      <td>Ada</td>\n",
       "      <td>75</td>\n",
       "      <td>4</td>\n",
       "      <td>64.30</td>\n",
       "      <td>0.3</td>\n",
       "      <td>87</td>\n",
       "      <td>0.260920</td>\n",
       "    </tr>\n",
       "    <tr>\n",
       "      <th>2019-01-30</th>\n",
       "      <td>Wednesday</td>\n",
       "      <td>Ada</td>\n",
       "      <td>80</td>\n",
       "      <td>2</td>\n",
       "      <td>64.20</td>\n",
       "      <td>0.3</td>\n",
       "      <td>105</td>\n",
       "      <td>0.388571</td>\n",
       "    </tr>\n",
       "    <tr>\n",
       "      <th>2019-01-07</th>\n",
       "      <td>Monday</td>\n",
       "      <td>Ada</td>\n",
       "      <td>81</td>\n",
       "      <td>3</td>\n",
       "      <td>64.25</td>\n",
       "      <td>0.3</td>\n",
       "      <td>96</td>\n",
       "      <td>0.330729</td>\n",
       "    </tr>\n",
       "  </tbody>\n",
       "</table>\n",
       "</div>"
      ],
      "text/plain": [
       "           Day-of-Week Salesclerk  Temperature  Tweets  Cost of Good Sold  \\\n",
       "Sales_Date                                                                  \n",
       "2019-01-16   Wednesday        Ada           56       6              64.40   \n",
       "2019-01-25      Friday        Ada           59       7              64.45   \n",
       "2019-01-15     Tuesday        Ada           60       6              64.40   \n",
       "2019-01-17    Thursday        Ada           60       2              64.20   \n",
       "2019-01-23   Wednesday        Ada           60       7              64.45   \n",
       "2019-01-06      Sunday        Ada           66       8              64.50   \n",
       "2019-02-04      Monday        Ada           67       3              64.25   \n",
       "2019-02-06   Wednesday        Ada           68       5              64.35   \n",
       "2019-01-05    Saturday        Ada           69       6              64.40   \n",
       "2019-01-27      Sunday        Ada           70       6              64.40   \n",
       "2019-02-07    Thursday        Ada           71       3              64.25   \n",
       "2019-02-10      Sunday        Ada           72       8              64.50   \n",
       "2019-02-15      Friday        Ada           75       4              64.30   \n",
       "2019-01-30   Wednesday        Ada           80       2              64.20   \n",
       "2019-01-07      Monday        Ada           81       3              64.25   \n",
       "\n",
       "            Price  Sales    Profit  \n",
       "Sales_Date                          \n",
       "2019-01-16    0.3    106  0.392453  \n",
       "2019-01-25    0.3     84  0.232738  \n",
       "2019-01-15    0.5    137  0.529927  \n",
       "2019-01-17    0.3     85  0.244706  \n",
       "2019-01-23    0.3     87  0.259195  \n",
       "2019-01-06    0.5    120  0.462500  \n",
       "2019-02-04    0.3     94  0.316489  \n",
       "2019-02-06    0.3    114  0.435526  \n",
       "2019-01-05    0.3    116  0.444828  \n",
       "2019-01-27    0.3    120  0.463333  \n",
       "2019-02-07    0.3    116  0.446121  \n",
       "2019-02-10    0.3     90  0.283333  \n",
       "2019-02-15    0.3     87  0.260920  \n",
       "2019-01-30    0.3    105  0.388571  \n",
       "2019-01-07    0.3     96  0.330729  "
      ]
     },
     "execution_count": 26,
     "metadata": {},
     "output_type": "execute_result"
    }
   ],
   "source": [
    "df_ada.set_index('Sales_Date')"
   ]
  },
  {
   "cell_type": "code",
   "execution_count": 27,
   "id": "9d892c00",
   "metadata": {},
   "outputs": [
    {
     "data": {
      "text/html": [
       "<div>\n",
       "<style scoped>\n",
       "    .dataframe tbody tr th:only-of-type {\n",
       "        vertical-align: middle;\n",
       "    }\n",
       "\n",
       "    .dataframe tbody tr th {\n",
       "        vertical-align: top;\n",
       "    }\n",
       "\n",
       "    .dataframe thead th {\n",
       "        text-align: right;\n",
       "    }\n",
       "</style>\n",
       "<table border=\"1\" class=\"dataframe\">\n",
       "  <thead>\n",
       "    <tr style=\"text-align: right;\">\n",
       "      <th></th>\n",
       "      <th>Day-of-Week</th>\n",
       "      <th>Salesclerk</th>\n",
       "      <th>Temperature</th>\n",
       "      <th>Tweets</th>\n",
       "      <th>Cost of Good Sold</th>\n",
       "      <th>Price</th>\n",
       "      <th>Sales</th>\n",
       "      <th>Profit</th>\n",
       "    </tr>\n",
       "    <tr>\n",
       "      <th>Sales_Date</th>\n",
       "      <th></th>\n",
       "      <th></th>\n",
       "      <th></th>\n",
       "      <th></th>\n",
       "      <th></th>\n",
       "      <th></th>\n",
       "      <th></th>\n",
       "      <th></th>\n",
       "    </tr>\n",
       "  </thead>\n",
       "  <tbody>\n",
       "    <tr>\n",
       "      <th>2019-01-10</th>\n",
       "      <td>Thursday</td>\n",
       "      <td>John</td>\n",
       "      <td>61</td>\n",
       "      <td>10</td>\n",
       "      <td>85.60</td>\n",
       "      <td>0.5</td>\n",
       "      <td>100</td>\n",
       "      <td>0.144000</td>\n",
       "    </tr>\n",
       "    <tr>\n",
       "      <th>2019-01-14</th>\n",
       "      <td>Monday</td>\n",
       "      <td>John</td>\n",
       "      <td>64</td>\n",
       "      <td>8</td>\n",
       "      <td>85.50</td>\n",
       "      <td>0.5</td>\n",
       "      <td>135</td>\n",
       "      <td>0.366667</td>\n",
       "    </tr>\n",
       "    <tr>\n",
       "      <th>2019-02-03</th>\n",
       "      <td>Sunday</td>\n",
       "      <td>John</td>\n",
       "      <td>65</td>\n",
       "      <td>6</td>\n",
       "      <td>85.40</td>\n",
       "      <td>0.5</td>\n",
       "      <td>140</td>\n",
       "      <td>0.390000</td>\n",
       "    </tr>\n",
       "    <tr>\n",
       "      <th>2019-02-11</th>\n",
       "      <td>Monday</td>\n",
       "      <td>John</td>\n",
       "      <td>68</td>\n",
       "      <td>2</td>\n",
       "      <td>85.20</td>\n",
       "      <td>0.5</td>\n",
       "      <td>145</td>\n",
       "      <td>0.412414</td>\n",
       "    </tr>\n",
       "    <tr>\n",
       "      <th>2019-01-03</th>\n",
       "      <td>Thursday</td>\n",
       "      <td>John</td>\n",
       "      <td>69</td>\n",
       "      <td>5</td>\n",
       "      <td>85.35</td>\n",
       "      <td>0.5</td>\n",
       "      <td>150</td>\n",
       "      <td>0.431000</td>\n",
       "    </tr>\n",
       "    <tr>\n",
       "      <th>2019-01-09</th>\n",
       "      <td>Wednesday</td>\n",
       "      <td>John</td>\n",
       "      <td>69</td>\n",
       "      <td>8</td>\n",
       "      <td>85.50</td>\n",
       "      <td>0.5</td>\n",
       "      <td>177</td>\n",
       "      <td>0.516949</td>\n",
       "    </tr>\n",
       "    <tr>\n",
       "      <th>2019-01-26</th>\n",
       "      <td>Saturday</td>\n",
       "      <td>John</td>\n",
       "      <td>69</td>\n",
       "      <td>0</td>\n",
       "      <td>85.10</td>\n",
       "      <td>0.5</td>\n",
       "      <td>125</td>\n",
       "      <td>0.319200</td>\n",
       "    </tr>\n",
       "    <tr>\n",
       "      <th>2019-02-02</th>\n",
       "      <td>Saturday</td>\n",
       "      <td>John</td>\n",
       "      <td>69</td>\n",
       "      <td>9</td>\n",
       "      <td>85.55</td>\n",
       "      <td>0.5</td>\n",
       "      <td>128</td>\n",
       "      <td>0.331641</td>\n",
       "    </tr>\n",
       "    <tr>\n",
       "      <th>2019-02-05</th>\n",
       "      <td>Tuesday</td>\n",
       "      <td>John</td>\n",
       "      <td>70</td>\n",
       "      <td>4</td>\n",
       "      <td>85.30</td>\n",
       "      <td>0.5</td>\n",
       "      <td>193</td>\n",
       "      <td>0.558031</td>\n",
       "    </tr>\n",
       "    <tr>\n",
       "      <th>2019-02-16</th>\n",
       "      <td>Saturday</td>\n",
       "      <td>John</td>\n",
       "      <td>71</td>\n",
       "      <td>3</td>\n",
       "      <td>85.25</td>\n",
       "      <td>0.5</td>\n",
       "      <td>199</td>\n",
       "      <td>0.571608</td>\n",
       "    </tr>\n",
       "    <tr>\n",
       "      <th>2019-02-19</th>\n",
       "      <td>Tuesday</td>\n",
       "      <td>John</td>\n",
       "      <td>71</td>\n",
       "      <td>2</td>\n",
       "      <td>85.20</td>\n",
       "      <td>0.5</td>\n",
       "      <td>193</td>\n",
       "      <td>0.558549</td>\n",
       "    </tr>\n",
       "    <tr>\n",
       "      <th>2019-01-01</th>\n",
       "      <td>Tuesday</td>\n",
       "      <td>John</td>\n",
       "      <td>72</td>\n",
       "      <td>2</td>\n",
       "      <td>85.20</td>\n",
       "      <td>0.5</td>\n",
       "      <td>177</td>\n",
       "      <td>0.518644</td>\n",
       "    </tr>\n",
       "    <tr>\n",
       "      <th>2019-01-24</th>\n",
       "      <td>Thursday</td>\n",
       "      <td>John</td>\n",
       "      <td>75</td>\n",
       "      <td>1</td>\n",
       "      <td>85.15</td>\n",
       "      <td>0.5</td>\n",
       "      <td>156</td>\n",
       "      <td>0.454167</td>\n",
       "    </tr>\n",
       "    <tr>\n",
       "      <th>2019-02-13</th>\n",
       "      <td>Wednesday</td>\n",
       "      <td>John</td>\n",
       "      <td>78</td>\n",
       "      <td>0</td>\n",
       "      <td>85.10</td>\n",
       "      <td>0.5</td>\n",
       "      <td>142</td>\n",
       "      <td>0.400704</td>\n",
       "    </tr>\n",
       "    <tr>\n",
       "      <th>2019-01-11</th>\n",
       "      <td>Friday</td>\n",
       "      <td>John</td>\n",
       "      <td>79</td>\n",
       "      <td>1</td>\n",
       "      <td>85.15</td>\n",
       "      <td>0.5</td>\n",
       "      <td>154</td>\n",
       "      <td>0.447078</td>\n",
       "    </tr>\n",
       "    <tr>\n",
       "      <th>2019-01-13</th>\n",
       "      <td>Sunday</td>\n",
       "      <td>John</td>\n",
       "      <td>80</td>\n",
       "      <td>5</td>\n",
       "      <td>85.35</td>\n",
       "      <td>0.5</td>\n",
       "      <td>161</td>\n",
       "      <td>0.469876</td>\n",
       "    </tr>\n",
       "    <tr>\n",
       "      <th>2019-02-12</th>\n",
       "      <td>Tuesday</td>\n",
       "      <td>John</td>\n",
       "      <td>80</td>\n",
       "      <td>0</td>\n",
       "      <td>85.10</td>\n",
       "      <td>0.5</td>\n",
       "      <td>174</td>\n",
       "      <td>0.510920</td>\n",
       "    </tr>\n",
       "    <tr>\n",
       "      <th>2019-02-18</th>\n",
       "      <td>Monday</td>\n",
       "      <td>John</td>\n",
       "      <td>80</td>\n",
       "      <td>6</td>\n",
       "      <td>85.40</td>\n",
       "      <td>0.5</td>\n",
       "      <td>200</td>\n",
       "      <td>0.573000</td>\n",
       "    </tr>\n",
       "    <tr>\n",
       "      <th>2019-01-02</th>\n",
       "      <td>Wednesday</td>\n",
       "      <td>John</td>\n",
       "      <td>82</td>\n",
       "      <td>3</td>\n",
       "      <td>85.25</td>\n",
       "      <td>0.5</td>\n",
       "      <td>127</td>\n",
       "      <td>0.328740</td>\n",
       "    </tr>\n",
       "    <tr>\n",
       "      <th>2019-01-22</th>\n",
       "      <td>Tuesday</td>\n",
       "      <td>John</td>\n",
       "      <td>82</td>\n",
       "      <td>6</td>\n",
       "      <td>85.40</td>\n",
       "      <td>0.5</td>\n",
       "      <td>192</td>\n",
       "      <td>0.555208</td>\n",
       "    </tr>\n",
       "    <tr>\n",
       "      <th>2019-01-29</th>\n",
       "      <td>Tuesday</td>\n",
       "      <td>John</td>\n",
       "      <td>84</td>\n",
       "      <td>4</td>\n",
       "      <td>85.30</td>\n",
       "      <td>0.5</td>\n",
       "      <td>198</td>\n",
       "      <td>0.569192</td>\n",
       "    </tr>\n",
       "    <tr>\n",
       "      <th>2019-02-14</th>\n",
       "      <td>Thursday</td>\n",
       "      <td>John</td>\n",
       "      <td>85</td>\n",
       "      <td>1</td>\n",
       "      <td>85.15</td>\n",
       "      <td>0.5</td>\n",
       "      <td>126</td>\n",
       "      <td>0.324206</td>\n",
       "    </tr>\n",
       "    <tr>\n",
       "      <th>2019-01-19</th>\n",
       "      <td>Saturday</td>\n",
       "      <td>John</td>\n",
       "      <td>87</td>\n",
       "      <td>6</td>\n",
       "      <td>85.40</td>\n",
       "      <td>0.5</td>\n",
       "      <td>187</td>\n",
       "      <td>0.543316</td>\n",
       "    </tr>\n",
       "    <tr>\n",
       "      <th>2019-02-09</th>\n",
       "      <td>Saturday</td>\n",
       "      <td>John</td>\n",
       "      <td>87</td>\n",
       "      <td>6</td>\n",
       "      <td>85.40</td>\n",
       "      <td>0.5</td>\n",
       "      <td>141</td>\n",
       "      <td>0.394326</td>\n",
       "    </tr>\n",
       "    <tr>\n",
       "      <th>2019-01-08</th>\n",
       "      <td>Tuesday</td>\n",
       "      <td>John</td>\n",
       "      <td>88</td>\n",
       "      <td>6</td>\n",
       "      <td>85.40</td>\n",
       "      <td>0.5</td>\n",
       "      <td>150</td>\n",
       "      <td>0.430667</td>\n",
       "    </tr>\n",
       "    <tr>\n",
       "      <th>2019-01-18</th>\n",
       "      <td>Friday</td>\n",
       "      <td>John</td>\n",
       "      <td>89</td>\n",
       "      <td>4</td>\n",
       "      <td>85.30</td>\n",
       "      <td>0.5</td>\n",
       "      <td>122</td>\n",
       "      <td>0.300820</td>\n",
       "    </tr>\n",
       "    <tr>\n",
       "      <th>2019-01-21</th>\n",
       "      <td>Monday</td>\n",
       "      <td>John</td>\n",
       "      <td>89</td>\n",
       "      <td>8</td>\n",
       "      <td>85.50</td>\n",
       "      <td>0.5</td>\n",
       "      <td>158</td>\n",
       "      <td>0.458861</td>\n",
       "    </tr>\n",
       "    <tr>\n",
       "      <th>2019-02-08</th>\n",
       "      <td>Friday</td>\n",
       "      <td>John</td>\n",
       "      <td>90</td>\n",
       "      <td>3</td>\n",
       "      <td>85.25</td>\n",
       "      <td>0.5</td>\n",
       "      <td>162</td>\n",
       "      <td>0.473765</td>\n",
       "    </tr>\n",
       "    <tr>\n",
       "      <th>2019-01-31</th>\n",
       "      <td>Thursday</td>\n",
       "      <td>John</td>\n",
       "      <td>92</td>\n",
       "      <td>8</td>\n",
       "      <td>85.50</td>\n",
       "      <td>0.5</td>\n",
       "      <td>172</td>\n",
       "      <td>0.502907</td>\n",
       "    </tr>\n",
       "    <tr>\n",
       "      <th>2019-02-01</th>\n",
       "      <td>Friday</td>\n",
       "      <td>John</td>\n",
       "      <td>92</td>\n",
       "      <td>9</td>\n",
       "      <td>85.55</td>\n",
       "      <td>0.5</td>\n",
       "      <td>121</td>\n",
       "      <td>0.292975</td>\n",
       "    </tr>\n",
       "    <tr>\n",
       "      <th>2019-01-12</th>\n",
       "      <td>Saturday</td>\n",
       "      <td>John</td>\n",
       "      <td>94</td>\n",
       "      <td>9</td>\n",
       "      <td>85.55</td>\n",
       "      <td>0.5</td>\n",
       "      <td>160</td>\n",
       "      <td>0.465313</td>\n",
       "    </tr>\n",
       "    <tr>\n",
       "      <th>2019-01-28</th>\n",
       "      <td>Monday</td>\n",
       "      <td>John</td>\n",
       "      <td>96</td>\n",
       "      <td>10</td>\n",
       "      <td>85.60</td>\n",
       "      <td>0.5</td>\n",
       "      <td>166</td>\n",
       "      <td>0.484337</td>\n",
       "    </tr>\n",
       "    <tr>\n",
       "      <th>2019-02-17</th>\n",
       "      <td>Sunday</td>\n",
       "      <td>John</td>\n",
       "      <td>96</td>\n",
       "      <td>2</td>\n",
       "      <td>85.20</td>\n",
       "      <td>0.5</td>\n",
       "      <td>141</td>\n",
       "      <td>0.395745</td>\n",
       "    </tr>\n",
       "    <tr>\n",
       "      <th>2019-01-04</th>\n",
       "      <td>Friday</td>\n",
       "      <td>John</td>\n",
       "      <td>100</td>\n",
       "      <td>7</td>\n",
       "      <td>85.45</td>\n",
       "      <td>0.5</td>\n",
       "      <td>150</td>\n",
       "      <td>0.430333</td>\n",
       "    </tr>\n",
       "    <tr>\n",
       "      <th>2019-01-20</th>\n",
       "      <td>Sunday</td>\n",
       "      <td>John</td>\n",
       "      <td>100</td>\n",
       "      <td>7</td>\n",
       "      <td>85.45</td>\n",
       "      <td>0.5</td>\n",
       "      <td>165</td>\n",
       "      <td>0.482121</td>\n",
       "    </tr>\n",
       "  </tbody>\n",
       "</table>\n",
       "</div>"
      ],
      "text/plain": [
       "           Day-of-Week Salesclerk  Temperature  Tweets  Cost of Good Sold  \\\n",
       "Sales_Date                                                                  \n",
       "2019-01-10    Thursday       John           61      10              85.60   \n",
       "2019-01-14      Monday       John           64       8              85.50   \n",
       "2019-02-03      Sunday       John           65       6              85.40   \n",
       "2019-02-11      Monday       John           68       2              85.20   \n",
       "2019-01-03    Thursday       John           69       5              85.35   \n",
       "2019-01-09   Wednesday       John           69       8              85.50   \n",
       "2019-01-26    Saturday       John           69       0              85.10   \n",
       "2019-02-02    Saturday       John           69       9              85.55   \n",
       "2019-02-05     Tuesday       John           70       4              85.30   \n",
       "2019-02-16    Saturday       John           71       3              85.25   \n",
       "2019-02-19     Tuesday       John           71       2              85.20   \n",
       "2019-01-01     Tuesday       John           72       2              85.20   \n",
       "2019-01-24    Thursday       John           75       1              85.15   \n",
       "2019-02-13   Wednesday       John           78       0              85.10   \n",
       "2019-01-11      Friday       John           79       1              85.15   \n",
       "2019-01-13      Sunday       John           80       5              85.35   \n",
       "2019-02-12     Tuesday       John           80       0              85.10   \n",
       "2019-02-18      Monday       John           80       6              85.40   \n",
       "2019-01-02   Wednesday       John           82       3              85.25   \n",
       "2019-01-22     Tuesday       John           82       6              85.40   \n",
       "2019-01-29     Tuesday       John           84       4              85.30   \n",
       "2019-02-14    Thursday       John           85       1              85.15   \n",
       "2019-01-19    Saturday       John           87       6              85.40   \n",
       "2019-02-09    Saturday       John           87       6              85.40   \n",
       "2019-01-08     Tuesday       John           88       6              85.40   \n",
       "2019-01-18      Friday       John           89       4              85.30   \n",
       "2019-01-21      Monday       John           89       8              85.50   \n",
       "2019-02-08      Friday       John           90       3              85.25   \n",
       "2019-01-31    Thursday       John           92       8              85.50   \n",
       "2019-02-01      Friday       John           92       9              85.55   \n",
       "2019-01-12    Saturday       John           94       9              85.55   \n",
       "2019-01-28      Monday       John           96      10              85.60   \n",
       "2019-02-17      Sunday       John           96       2              85.20   \n",
       "2019-01-04      Friday       John          100       7              85.45   \n",
       "2019-01-20      Sunday       John          100       7              85.45   \n",
       "\n",
       "            Price  Sales    Profit  \n",
       "Sales_Date                          \n",
       "2019-01-10    0.5    100  0.144000  \n",
       "2019-01-14    0.5    135  0.366667  \n",
       "2019-02-03    0.5    140  0.390000  \n",
       "2019-02-11    0.5    145  0.412414  \n",
       "2019-01-03    0.5    150  0.431000  \n",
       "2019-01-09    0.5    177  0.516949  \n",
       "2019-01-26    0.5    125  0.319200  \n",
       "2019-02-02    0.5    128  0.331641  \n",
       "2019-02-05    0.5    193  0.558031  \n",
       "2019-02-16    0.5    199  0.571608  \n",
       "2019-02-19    0.5    193  0.558549  \n",
       "2019-01-01    0.5    177  0.518644  \n",
       "2019-01-24    0.5    156  0.454167  \n",
       "2019-02-13    0.5    142  0.400704  \n",
       "2019-01-11    0.5    154  0.447078  \n",
       "2019-01-13    0.5    161  0.469876  \n",
       "2019-02-12    0.5    174  0.510920  \n",
       "2019-02-18    0.5    200  0.573000  \n",
       "2019-01-02    0.5    127  0.328740  \n",
       "2019-01-22    0.5    192  0.555208  \n",
       "2019-01-29    0.5    198  0.569192  \n",
       "2019-02-14    0.5    126  0.324206  \n",
       "2019-01-19    0.5    187  0.543316  \n",
       "2019-02-09    0.5    141  0.394326  \n",
       "2019-01-08    0.5    150  0.430667  \n",
       "2019-01-18    0.5    122  0.300820  \n",
       "2019-01-21    0.5    158  0.458861  \n",
       "2019-02-08    0.5    162  0.473765  \n",
       "2019-01-31    0.5    172  0.502907  \n",
       "2019-02-01    0.5    121  0.292975  \n",
       "2019-01-12    0.5    160  0.465313  \n",
       "2019-01-28    0.5    166  0.484337  \n",
       "2019-02-17    0.5    141  0.395745  \n",
       "2019-01-04    0.5    150  0.430333  \n",
       "2019-01-20    0.5    165  0.482121  "
      ]
     },
     "execution_count": 27,
     "metadata": {},
     "output_type": "execute_result"
    }
   ],
   "source": [
    "df_john.set_index('Sales_Date')"
   ]
  },
  {
   "cell_type": "code",
   "execution_count": 30,
   "id": "4dd9f67b",
   "metadata": {},
   "outputs": [
    {
     "data": {
      "image/png": "[encoded data removed]",
      "text/plain": [
       "<Figure size 432x288 with 1 Axes>"
      ]
     },
     "metadata": {
      "needs_background": "light"
     },
     "output_type": "display_data"
    }
   ],
   "source": [
    "plt.plot(df_ada['Sales'])\n",
    "plt.plot(df_john['Sales'])\n",
    "plt.show()"
   ]
  },
  {
   "cell_type": "code",
   "execution_count": 33,
   "id": "0f2099b2",
   "metadata": {},
   "outputs": [
    {
     "data": {
      "image/png": "[encoded data removed]",
      "text/plain": [
       "<Figure size 432x288 with 1 Axes>"
      ]
     },
     "metadata": {
      "needs_background": "light"
     },
     "output_type": "display_data"
    }
   ],
   "source": [
    "ada_sales = len(df_ada)\n",
    "john_sales = len(df_john)\n",
    "plt.bar(df_ada['Sales'], ada_sales, label='Ada')\n",
    "plt.bar(df_john['Sales'], john_sales, label='John')\n",
    "plt.legend()\n",
    "plt.show()"
   ]
  },
  {
   "cell_type": "code",
   "execution_count": 64,
   "id": "8c74473e",
   "metadata": {},
   "outputs": [
    {
     "name": "stderr",
     "output_type": "stream",
     "text": [
      "/usr/local/lib/python3.9/site-packages/seaborn/_decorators.py:36: FutureWarning: Pass the following variable as a keyword arg: x. From version 0.12, the only valid positional argument will be `data`, and passing other arguments without an explicit keyword will result in an error or misinterpretation.\n",
      "  warnings.warn(\n"
     ]
    },
    {
     "data": {
      "text/plain": [
       "<AxesSubplot:xlabel='Salesclerk', ylabel='count'>"
      ]
     },
     "execution_count": 64,
     "metadata": {},
     "output_type": "execute_result"
    },
    {
     "data": {
      "image/png": "[encoded data removed]",
      "text/plain": [
       "<Figure size 576x432 with 1 Axes>"
      ]
     },
     "metadata": {
      "needs_background": "light"
     },
     "output_type": "display_data"
    }
   ],
   "source": [
    "# The two Salesclerks did not work an even number of days. \n",
    "# For instance, the data shows that Ada worked 15 days and John worked 35 days, which makes it difficult to assess\n",
    "# the overall performance between the two.\n",
    "plt.figure(figsize=(8, 6))\n",
    "sns.countplot(df.Salesclerk)"
   ]
  },
  {
   "cell_type": "code",
   "execution_count": 36,
   "id": "bd14f6f2",
   "metadata": {},
   "outputs": [
    {
     "name": "stderr",
     "output_type": "stream",
     "text": [
      "/usr/local/lib/python3.9/site-packages/seaborn/_decorators.py:36: FutureWarning: Pass the following variable as a keyword arg: x. From version 0.12, the only valid positional argument will be `data`, and passing other arguments without an explicit keyword will result in an error or misinterpretation.\n",
      "  warnings.warn(\n"
     ]
    },
    {
     "data": {
      "text/plain": [
       "<AxesSubplot:xlabel='Sales', ylabel='count'>"
      ]
     },
     "execution_count": 36,
     "metadata": {},
     "output_type": "execute_result"
    },
    {
     "data": {
      "image/png": "[encoded data removed]",
      "text/plain": [
       "<Figure size 432x288 with 1 Axes>"
      ]
     },
     "metadata": {
      "needs_background": "light"
     },
     "output_type": "display_data"
    }
   ],
   "source": [
    "sns.countplot(df.Sales)"
   ]
  },
  {
   "cell_type": "code",
   "execution_count": 86,
   "id": "872f6dbf",
   "metadata": {},
   "outputs": [
    {
     "name": "stderr",
     "output_type": "stream",
     "text": [
      "/usr/local/lib/python3.9/site-packages/seaborn/_decorators.py:36: FutureWarning: Pass the following variable as a keyword arg: x. From version 0.12, the only valid positional argument will be `data`, and passing other arguments without an explicit keyword will result in an error or misinterpretation.\n",
      "  warnings.warn(\n"
     ]
    },
    {
     "data": {
      "text/plain": [
       "<AxesSubplot:xlabel='Tweets', ylabel='count'>"
      ]
     },
     "execution_count": 86,
     "metadata": {},
     "output_type": "execute_result"
    },
    {
     "data": {
      "image/png": "[encoded data removed]",
      "text/plain": [
       "<Figure size 432x288 with 1 Axes>"
      ]
     },
     "metadata": {
      "needs_background": "light"
     },
     "output_type": "display_data"
    }
   ],
   "source": [
    "sns.countplot(df.Tweets)"
   ]
  },
  {
   "cell_type": "code",
   "execution_count": 40,
   "id": "e1369dc5",
   "metadata": {},
   "outputs": [],
   "source": [
    "# df.Salesclerk.value_count()"
   ]
  },
  {
   "cell_type": "code",
   "execution_count": 44,
   "id": "b3124c85",
   "metadata": {},
   "outputs": [
    {
     "data": {
      "text/plain": [
       "<AxesSubplot:xlabel='Day-of-Week', ylabel='Sales'>"
      ]
     },
     "execution_count": 44,
     "metadata": {},
     "output_type": "execute_result"
    },
    {
     "data": {
      "image/png": "[encoded data removed]",
      "text/plain": [
       "<Figure size 864x576 with 1 Axes>"
      ]
     },
     "metadata": {
      "needs_background": "light"
     },
     "output_type": "display_data"
    }
   ],
   "source": [
    "plt.figure(figsize=(12, 8))\n",
    "date_order = [\"Monday\", \"Tuesday\", \"Wednesday\", \"Thursday\", \"Friday\", \"Saturday\", \"Sunday\"]\n",
    "sns.barplot(x=\"Day-of-Week\", y=\"Sales\", hue=\"Salesclerk\", data=df, order=date_order)"
   ]
  },
  {
   "cell_type": "code",
   "execution_count": 110,
   "id": "20d19fdb",
   "metadata": {},
   "outputs": [
    {
     "data": {
      "text/plain": [
       "<AxesSubplot:xlabel='Tweets', ylabel='Sales'>"
      ]
     },
     "execution_count": 110,
     "metadata": {},
     "output_type": "execute_result"
    },
    {
     "data": {
      "image/png": "[encoded data removed]",
      "text/plain": [
       "<Figure size 864x576 with 1 Axes>"
      ]
     },
     "metadata": {
      "needs_background": "light"
     },
     "output_type": "display_data"
    }
   ],
   "source": [
    "# plt.figure(figsize=(12, 8))\n",
    "# date_order = [\"Monday\", \"Tuesday\", \"Wednesday\", \"Thursday\", \"Friday\", \"Saturday\", \"Sunday\"]\n",
    "# sns.barplot(x=\"Price\", y=\"Sales\", hue=\"Salesclerk\", data=df)\n",
    "\n",
    "plt.figure(figsize=(12, 8))\n",
    "# date_order = [\"Monday\", \"Tuesday\", \"Wednesday\", \"Thursday\", \"Friday\", \"Saturday\", \"Sunday\"]\n",
    "sns.barplot(x=\"Tweets\", y=\"Sales\", hue=\"Salesclerk\", data=df_ada)"
   ]
  },
  {
   "cell_type": "code",
   "execution_count": 111,
   "id": "bc7a0cee",
   "metadata": {},
   "outputs": [
    {
     "data": {
      "text/plain": [
       "<AxesSubplot:xlabel='Tweets', ylabel='Sales'>"
      ]
     },
     "execution_count": 111,
     "metadata": {},
     "output_type": "execute_result"
    },
    {
     "data": {
      "image/png": "[encoded data removed]",
      "text/plain": [
       "<Figure size 432x288 with 1 Axes>"
      ]
     },
     "metadata": {
      "needs_background": "light"
     },
     "output_type": "display_data"
    }
   ],
   "source": [
    "sns.barplot(x=\"Tweets\", y=\"Sales\", hue=\"Salesclerk\", data=df_john)"
   ]
  },
  {
   "cell_type": "code",
   "execution_count": 45,
   "id": "c60520fe",
   "metadata": {},
   "outputs": [
    {
     "data": {
      "text/html": [
       "<div>\n",
       "<style scoped>\n",
       "    .dataframe tbody tr th:only-of-type {\n",
       "        vertical-align: middle;\n",
       "    }\n",
       "\n",
       "    .dataframe tbody tr th {\n",
       "        vertical-align: top;\n",
       "    }\n",
       "\n",
       "    .dataframe thead th {\n",
       "        text-align: right;\n",
       "    }\n",
       "</style>\n",
       "<table border=\"1\" class=\"dataframe\">\n",
       "  <thead>\n",
       "    <tr style=\"text-align: right;\">\n",
       "      <th></th>\n",
       "      <th>Sales_Date</th>\n",
       "      <th>Day-of-Week</th>\n",
       "      <th>Salesclerk</th>\n",
       "      <th>Temperature</th>\n",
       "      <th>Tweets</th>\n",
       "      <th>Cost of Good Sold</th>\n",
       "      <th>Price</th>\n",
       "      <th>Sales</th>\n",
       "      <th>Profit</th>\n",
       "    </tr>\n",
       "  </thead>\n",
       "  <tbody>\n",
       "    <tr>\n",
       "      <th>0</th>\n",
       "      <td>2019-01-16</td>\n",
       "      <td>Wednesday</td>\n",
       "      <td>Ada</td>\n",
       "      <td>56</td>\n",
       "      <td>6</td>\n",
       "      <td>64.40</td>\n",
       "      <td>0.3</td>\n",
       "      <td>106</td>\n",
       "      <td>0.392453</td>\n",
       "    </tr>\n",
       "    <tr>\n",
       "      <th>1</th>\n",
       "      <td>2019-01-25</td>\n",
       "      <td>Friday</td>\n",
       "      <td>Ada</td>\n",
       "      <td>59</td>\n",
       "      <td>7</td>\n",
       "      <td>64.45</td>\n",
       "      <td>0.3</td>\n",
       "      <td>84</td>\n",
       "      <td>0.232738</td>\n",
       "    </tr>\n",
       "    <tr>\n",
       "      <th>2</th>\n",
       "      <td>2019-01-15</td>\n",
       "      <td>Tuesday</td>\n",
       "      <td>Ada</td>\n",
       "      <td>60</td>\n",
       "      <td>6</td>\n",
       "      <td>64.40</td>\n",
       "      <td>0.5</td>\n",
       "      <td>137</td>\n",
       "      <td>0.529927</td>\n",
       "    </tr>\n",
       "    <tr>\n",
       "      <th>3</th>\n",
       "      <td>2019-01-17</td>\n",
       "      <td>Thursday</td>\n",
       "      <td>Ada</td>\n",
       "      <td>60</td>\n",
       "      <td>2</td>\n",
       "      <td>64.20</td>\n",
       "      <td>0.3</td>\n",
       "      <td>85</td>\n",
       "      <td>0.244706</td>\n",
       "    </tr>\n",
       "    <tr>\n",
       "      <th>4</th>\n",
       "      <td>2019-01-23</td>\n",
       "      <td>Wednesday</td>\n",
       "      <td>Ada</td>\n",
       "      <td>60</td>\n",
       "      <td>7</td>\n",
       "      <td>64.45</td>\n",
       "      <td>0.3</td>\n",
       "      <td>87</td>\n",
       "      <td>0.259195</td>\n",
       "    </tr>\n",
       "  </tbody>\n",
       "</table>\n",
       "</div>"
      ],
      "text/plain": [
       "  Sales_Date Day-of-Week Salesclerk  Temperature  Tweets  Cost of Good Sold  \\\n",
       "0 2019-01-16   Wednesday        Ada           56       6              64.40   \n",
       "1 2019-01-25      Friday        Ada           59       7              64.45   \n",
       "2 2019-01-15     Tuesday        Ada           60       6              64.40   \n",
       "3 2019-01-17    Thursday        Ada           60       2              64.20   \n",
       "4 2019-01-23   Wednesday        Ada           60       7              64.45   \n",
       "\n",
       "   Price  Sales    Profit  \n",
       "0    0.3    106  0.392453  \n",
       "1    0.3     84  0.232738  \n",
       "2    0.5    137  0.529927  \n",
       "3    0.3     85  0.244706  \n",
       "4    0.3     87  0.259195  "
      ]
     },
     "execution_count": 45,
     "metadata": {},
     "output_type": "execute_result"
    }
   ],
   "source": [
    "df.head()"
   ]
  },
  {
   "cell_type": "code",
   "execution_count": 115,
   "id": "caee83f2",
   "metadata": {},
   "outputs": [
    {
     "data": {
      "text/plain": [
       "<seaborn.axisgrid.FacetGrid at 0x131630e80>"
      ]
     },
     "execution_count": 115,
     "metadata": {},
     "output_type": "execute_result"
    },
    {
     "data": {
      "text/plain": [
       "<Figure size 864x576 with 0 Axes>"
      ]
     },
     "metadata": {},
     "output_type": "display_data"
    },
    {
     "data": {
      "image/png": "[encoded data removed]",
      "text/plain": [
       "<Figure size 419x360 with 1 Axes>"
      ]
     },
     "metadata": {
      "needs_background": "light"
     },
     "output_type": "display_data"
    }
   ],
   "source": [
    "# The majority of Ada's sales were made in colder weather than John, so there is a chance if she worked during warmer weather she could produce more sales.\n",
    "plt.figure(figsize=(12, 8))\n",
    "sns.relplot(x=\"Temperature\", y=\"Sales\", hue=\"Salesclerk\", data=df)"
   ]
  },
  {
   "cell_type": "code",
   "execution_count": 106,
   "id": "46dc4844",
   "metadata": {},
   "outputs": [
    {
     "data": {
      "text/plain": [
       "<seaborn.axisgrid.FacetGrid at 0x130efd5b0>"
      ]
     },
     "execution_count": 106,
     "metadata": {},
     "output_type": "execute_result"
    },
    {
     "data": {
      "text/plain": [
       "<Figure size 864x576 with 0 Axes>"
      ]
     },
     "metadata": {},
     "output_type": "display_data"
    },
    {
     "data": {
      "image/png": "[encoded data removed]",
      "text/plain": [
       "<Figure size 419x360 with 1 Axes>"
      ]
     },
     "metadata": {
      "needs_background": "light"
     },
     "output_type": "display_data"
    }
   ],
   "source": [
    "plt.figure(figsize=(12, 8))\n",
    "sns.relplot(x=\"Price\", y=\"Sales\", hue=\"Salesclerk\", data=df)"
   ]
  },
  {
   "cell_type": "code",
   "execution_count": 48,
   "id": "b008316c",
   "metadata": {},
   "outputs": [
    {
     "data": {
      "text/plain": [
       "<AxesSubplot:xlabel='Sales', ylabel='Temperature'>"
      ]
     },
     "execution_count": 48,
     "metadata": {},
     "output_type": "execute_result"
    },
    {
     "data": {
      "image/png": "[encoded data removed]",
      "text/plain": [
       "<Figure size 432x288 with 1 Axes>"
      ]
     },
     "metadata": {
      "needs_background": "light"
     },
     "output_type": "display_data"
    }
   ],
   "source": [
    "sns.regplot(x=\"Sales\", y=\"Temperature\", data=df_ada)"
   ]
  },
  {
   "cell_type": "code",
   "execution_count": 50,
   "id": "fcd932a2",
   "metadata": {},
   "outputs": [
    {
     "data": {
      "text/plain": [
       "<seaborn.axisgrid.FacetGrid at 0x12f28f9d0>"
      ]
     },
     "execution_count": 50,
     "metadata": {},
     "output_type": "execute_result"
    },
    {
     "data": {
      "image/png": "[encoded data removed]",
      "text/plain": [
       "<Figure size 419x360 with 1 Axes>"
      ]
     },
     "metadata": {
      "needs_background": "light"
     },
     "output_type": "display_data"
    }
   ],
   "source": [
    "sns.relplot(x=\"Temperature\", y=\"Sales\", hue=\"Salesclerk\", kind=\"line\", data=df)"
   ]
  },
  {
   "cell_type": "code",
   "execution_count": 51,
   "id": "9379aabc",
   "metadata": {},
   "outputs": [
    {
     "data": {
      "text/plain": [
       "50"
      ]
     },
     "execution_count": 51,
     "metadata": {},
     "output_type": "execute_result"
    }
   ],
   "source": [
    "len(df)"
   ]
  },
  {
   "cell_type": "code",
   "execution_count": 74,
   "id": "74558eb3",
   "metadata": {},
   "outputs": [
    {
     "data": {
      "text/plain": [
       "<AxesSubplot:xlabel='Sales', ylabel='Profit'>"
      ]
     },
     "execution_count": 74,
     "metadata": {},
     "output_type": "execute_result"
    },
    {
     "data": {
      "image/png": "[encoded data removed]",
      "text/plain": [
       "<Figure size 864x576 with 1 Axes>"
      ]
     },
     "metadata": {
      "needs_background": "light"
     },
     "output_type": "display_data"
    }
   ],
   "source": [
    "# Although Ada had lesser sales than John her profits were still pretty high and even close to John\n",
    "\n",
    "plt.figure(figsize=(12, 8))\n",
    "sns.lineplot(x='Sales', y='Profit', hue='Salesclerk', data=df)"
   ]
  },
  {
   "cell_type": "code",
   "execution_count": 113,
   "id": "875765dd",
   "metadata": {},
   "outputs": [
    {
     "data": {
      "text/plain": [
       "<AxesSubplot:xlabel='Profit', ylabel='Sales'>"
      ]
     },
     "execution_count": 113,
     "metadata": {},
     "output_type": "execute_result"
    },
    {
     "data": {
      "image/png": "[encoded data removed]",
      "text/plain": [
       "<Figure size 864x576 with 1 Axes>"
      ]
     },
     "metadata": {
      "needs_background": "light"
     },
     "output_type": "display_data"
    }
   ],
   "source": [
    "plt.figure(figsize=(12, 8))\n",
    "sns.lineplot(x='Profit', y='Sales', hue='Salesclerk', data=df)"
   ]
  },
  {
   "cell_type": "code",
   "execution_count": null,
   "id": "4efeaca4",
   "metadata": {},
   "outputs": [],
   "source": []
  }
 ],
 "metadata": {
  "kernelspec": {
   "display_name": "Python 3",
   "language": "python",
   "name": "python3"
  },
  "language_info": {
   "codemirror_mode": {
    "name": "ipython",
    "version": 3
   },
   "file_extension": ".py",
   "mimetype": "text/x-python",
   "name": "python",
   "nbconvert_exporter": "python",
   "pygments_lexer": "ipython3",
   "version": "3.9.6"
  }
 },
 "nbformat": 4,
 "nbformat_minor": 5
}
